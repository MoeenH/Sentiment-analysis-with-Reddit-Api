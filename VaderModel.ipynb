{
 "cells": [
  {
   "cell_type": "code",
   "execution_count": 56,
   "metadata": {},
   "outputs": [
    {
     "data": {
      "text/html": [
       "<div>\n",
       "<style scoped>\n",
       "    .dataframe tbody tr th:only-of-type {\n",
       "        vertical-align: middle;\n",
       "    }\n",
       "\n",
       "    .dataframe tbody tr th {\n",
       "        vertical-align: top;\n",
       "    }\n",
       "\n",
       "    .dataframe thead th {\n",
       "        text-align: right;\n",
       "    }\n",
       "</style>\n",
       "<table border=\"1\" class=\"dataframe\">\n",
       "  <thead>\n",
       "    <tr style=\"text-align: right;\">\n",
       "      <th></th>\n",
       "      <th>Id</th>\n",
       "      <th>Restaurant</th>\n",
       "      <th>Reviewer</th>\n",
       "      <th>Review</th>\n",
       "      <th>Rating</th>\n",
       "      <th>Metadata</th>\n",
       "      <th>Time</th>\n",
       "      <th>Pictures</th>\n",
       "    </tr>\n",
       "  </thead>\n",
       "  <tbody>\n",
       "    <tr>\n",
       "      <th>0</th>\n",
       "      <td>1.0</td>\n",
       "      <td>Beyond Flavours</td>\n",
       "      <td>Rusha Chakraborty</td>\n",
       "      <td>The ambience was good, food was quite good . h...</td>\n",
       "      <td>5</td>\n",
       "      <td>1 Review , 2 Followers</td>\n",
       "      <td>5/25/2019 15:54</td>\n",
       "      <td>0</td>\n",
       "    </tr>\n",
       "    <tr>\n",
       "      <th>1</th>\n",
       "      <td>2.0</td>\n",
       "      <td>Beyond Flavours</td>\n",
       "      <td>Anusha Tirumalaneedi</td>\n",
       "      <td>Ambience is too good for a pleasant evening. S...</td>\n",
       "      <td>5</td>\n",
       "      <td>3 Reviews , 2 Followers</td>\n",
       "      <td>5/25/2019 14:20</td>\n",
       "      <td>0</td>\n",
       "    </tr>\n",
       "    <tr>\n",
       "      <th>2</th>\n",
       "      <td>3.0</td>\n",
       "      <td>Beyond Flavours</td>\n",
       "      <td>Ashok Shekhawat</td>\n",
       "      <td>A must try.. great food great ambience. Thnx f...</td>\n",
       "      <td>5</td>\n",
       "      <td>2 Reviews , 3 Followers</td>\n",
       "      <td>5/24/2019 22:54</td>\n",
       "      <td>0</td>\n",
       "    </tr>\n",
       "    <tr>\n",
       "      <th>3</th>\n",
       "      <td>4.0</td>\n",
       "      <td>Beyond Flavours</td>\n",
       "      <td>Swapnil Sarkar</td>\n",
       "      <td>Soumen das and Arun was a great guy. Only beca...</td>\n",
       "      <td>5</td>\n",
       "      <td>1 Review , 1 Follower</td>\n",
       "      <td>5/24/2019 22:11</td>\n",
       "      <td>0</td>\n",
       "    </tr>\n",
       "    <tr>\n",
       "      <th>4</th>\n",
       "      <td>5.0</td>\n",
       "      <td>Beyond Flavours</td>\n",
       "      <td>Dileep</td>\n",
       "      <td>Food is good.we ordered Kodi drumsticks and ba...</td>\n",
       "      <td>5</td>\n",
       "      <td>3 Reviews , 2 Followers</td>\n",
       "      <td>5/24/2019 21:37</td>\n",
       "      <td>0</td>\n",
       "    </tr>\n",
       "  </tbody>\n",
       "</table>\n",
       "</div>"
      ],
      "text/plain": [
       "    Id       Restaurant              Reviewer  \\\n",
       "0  1.0  Beyond Flavours     Rusha Chakraborty   \n",
       "1  2.0  Beyond Flavours  Anusha Tirumalaneedi   \n",
       "2  3.0  Beyond Flavours       Ashok Shekhawat   \n",
       "3  4.0  Beyond Flavours        Swapnil Sarkar   \n",
       "4  5.0  Beyond Flavours                Dileep   \n",
       "\n",
       "                                              Review Rating  \\\n",
       "0  The ambience was good, food was quite good . h...      5   \n",
       "1  Ambience is too good for a pleasant evening. S...      5   \n",
       "2  A must try.. great food great ambience. Thnx f...      5   \n",
       "3  Soumen das and Arun was a great guy. Only beca...      5   \n",
       "4  Food is good.we ordered Kodi drumsticks and ba...      5   \n",
       "\n",
       "                  Metadata             Time  Pictures  \n",
       "0   1 Review , 2 Followers  5/25/2019 15:54         0  \n",
       "1  3 Reviews , 2 Followers  5/25/2019 14:20         0  \n",
       "2  2 Reviews , 3 Followers  5/24/2019 22:54         0  \n",
       "3    1 Review , 1 Follower  5/24/2019 22:11         0  \n",
       "4  3 Reviews , 2 Followers  5/24/2019 21:37         0  "
      ]
     },
     "execution_count": 56,
     "metadata": {},
     "output_type": "execute_result"
    }
   ],
   "source": [
    "import pandas as pd\n",
    "import numpy as np\n",
    "import matplotlib.pyplot as plt\n",
    "import seaborn as sns\n",
    "\n",
    "plt.style.use('ggplot')\n",
    "\n",
    "import nltk \n",
    "\n",
    "#read in data\n",
    "\n",
    "df = pd.read_csv('Restaurant Reviews.csv')\n",
    "\n",
    "df.head() #head command for data set"
   ]
  },
  {
   "cell_type": "code",
   "execution_count": 57,
   "metadata": {},
   "outputs": [
    {
     "data": {
      "text/plain": [
       "'The ambience was good, food was quite good . had Saturday lunch , which was cost effective .\\nGood place for a sate brunch. One can also chill with friends and or parents.\\nWaiter Soumen Das was really courteous and helpful.'"
      ]
     },
     "execution_count": 57,
     "metadata": {},
     "output_type": "execute_result"
    }
   ],
   "source": [
    "df['Review'].values[0] #prints the first review only"
   ]
  },
  {
   "cell_type": "code",
   "execution_count": 58,
   "metadata": {},
   "outputs": [
    {
     "name": "stdout",
     "output_type": "stream",
     "text": [
      "(10000, 8)\n"
     ]
    }
   ],
   "source": [
    "print(df.shape) #prints the size of the dataset (20491 reviews, and 2 columns (reviews and ratings))"
   ]
  },
  {
   "cell_type": "code",
   "execution_count": 59,
   "metadata": {},
   "outputs": [
    {
     "name": "stdout",
     "output_type": "stream",
     "text": [
      "(101, 8)\n"
     ]
    }
   ],
   "source": [
    "df = df.head(101)\n",
    "print(df.shape)"
   ]
  },
  {
   "cell_type": "code",
   "execution_count": 60,
   "metadata": {},
   "outputs": [
    {
     "data": {
      "text/plain": [
       "0      5\n",
       "1      5\n",
       "2      5\n",
       "3      5\n",
       "4      5\n",
       "      ..\n",
       "96     5\n",
       "97     5\n",
       "98     2\n",
       "99     4\n",
       "100    5\n",
       "Name: Rating, Length: 101, dtype: object"
      ]
     },
     "execution_count": 60,
     "metadata": {},
     "output_type": "execute_result"
    }
   ],
   "source": [
    "df['Rating'] #gives the rating column only"
   ]
  },
  {
   "cell_type": "code",
   "execution_count": 61,
   "metadata": {},
   "outputs": [
    {
     "data": {
      "text/plain": [
       "5    67\n",
       "4    16\n",
       "1     8\n",
       "3     6\n",
       "2     4\n",
       "Name: Rating, dtype: int64"
      ]
     },
     "execution_count": 61,
     "metadata": {},
     "output_type": "execute_result"
    }
   ],
   "source": [
    "df['Rating'].value_counts() #tells which rating number has occured how many times"
   ]
  },
  {
   "cell_type": "code",
   "execution_count": 62,
   "metadata": {},
   "outputs": [
    {
     "data": {
      "image/png": "[encoded data removed]",
      "text/plain": [
       "<Figure size 1000x500 with 1 Axes>"
      ]
     },
     "metadata": {},
     "output_type": "display_data"
    }
   ],
   "source": [
    "ax = df['Rating'].value_counts().sort_index().plot(kind= 'bar', title= 'Count of reviews by Ratings', figsize=(10,5))\n",
    "# sort_index sorts the Ratings count by index\n",
    "# plot function plots the graph\n",
    "ax.set_xlabel('Review Stars')\n",
    "ax.set_ylabel('Count of reviews')\n",
    "plt.show()"
   ]
  },
  {
   "cell_type": "code",
   "execution_count": 63,
   "metadata": {},
   "outputs": [
    {
     "name": "stdout",
     "output_type": "stream",
     "text": [
      "Ambience is too good for a pleasant evening. Service is very prompt. Food is good. Over all a good experience. Soumen Das - kudos to the service\n"
     ]
    }
   ],
   "source": [
    "# BASIC NLTK STUFF\n",
    "\n",
    "example = df['Review'][1]\n",
    "print(example)"
   ]
  },
  {
   "cell_type": "code",
   "execution_count": 64,
   "metadata": {},
   "outputs": [
    {
     "data": {
      "text/plain": [
       "['Ambience',\n",
       " 'is',\n",
       " 'too',\n",
       " 'good',\n",
       " 'for',\n",
       " 'a',\n",
       " 'pleasant',\n",
       " 'evening',\n",
       " '.',\n",
       " 'Service']"
      ]
     },
     "execution_count": 64,
     "metadata": {},
     "output_type": "execute_result"
    }
   ],
   "source": [
    "# BASIC NLTK STUFF CONTINUATION\n",
    "\n",
    "#nltk.download('punkt')\n",
    "token = nltk.word_tokenize(example)\n",
    "token[:10] #prints the first 10 words only."
   ]
  },
  {
   "cell_type": "code",
   "execution_count": 65,
   "metadata": {},
   "outputs": [
    {
     "data": {
      "text/plain": [
       "[('Ambience', 'NN'),\n",
       " ('is', 'VBZ'),\n",
       " ('too', 'RB'),\n",
       " ('good', 'JJ'),\n",
       " ('for', 'IN'),\n",
       " ('a', 'DT'),\n",
       " ('pleasant', 'JJ'),\n",
       " ('evening', 'NN'),\n",
       " ('.', '.'),\n",
       " ('Service', 'NNP')]"
      ]
     },
     "execution_count": 65,
     "metadata": {},
     "output_type": "execute_result"
    }
   ],
   "source": [
    "# BASIC NLTK STUFF CONTINUATION\n",
    "\n",
    "#nltk.download('averaged_perceptron_tagger')\n",
    "## https://stackoverflow.com/questions/15388831/what-are-all-possible-pos-tags-of-nltk      (THIS HAS LIST OF ABBREVIATIONS)\n",
    "tagged = nltk.pos_tag(token) #find the part of speech for each word\n",
    "tagged[:10]"
   ]
  },
  {
   "cell_type": "code",
   "execution_count": 66,
   "metadata": {},
   "outputs": [
    {
     "name": "stdout",
     "output_type": "stream",
     "text": [
      "(S\n",
      "  (GPE Ambience/NN)\n",
      "  is/VBZ\n",
      "  too/RB\n",
      "  good/JJ\n",
      "  for/IN\n",
      "  a/DT\n",
      "  pleasant/JJ\n",
      "  evening/NN\n",
      "  ./.\n",
      "  Service/NNP\n",
      "  is/VBZ\n",
      "  very/RB\n",
      "  prompt/JJ\n",
      "  ./.\n",
      "  (PERSON Food/NNP)\n",
      "  is/VBZ\n",
      "  good/JJ\n",
      "  ./.\n",
      "  Over/IN\n",
      "  all/PDT\n",
      "  a/DT\n",
      "  good/JJ\n",
      "  experience/NN\n",
      "  ./.\n",
      "  (PERSON Soumen/NNP Das/NNP)\n",
      "  -/:\n",
      "  kudos/NN\n",
      "  to/TO\n",
      "  the/DT\n",
      "  service/NN)\n"
     ]
    }
   ],
   "source": [
    "# BASIC NLTK STUFF CONTINUATION\n",
    "\n",
    "# nltk.download('maxent_ne_chunker')\n",
    "# nltk.download('words')\n",
    "\n",
    "entities = nltk.chunk.ne_chunk(tagged)\n",
    "entities.pprint()\n"
   ]
  },
  {
   "cell_type": "code",
   "execution_count": 67,
   "metadata": {},
   "outputs": [],
   "source": [
    "#VADER SENTIMENT SCORING \n",
    "\n",
    "\n",
    "#VADER (VALENCE AWARE DICTIONARY AND SENTIMENT REASONER) - BAG OF WORDS APPROACH\n",
    "#THIS APPROACH DOES NOT ACCOUNT FOR RELATIONSHIPS BETWEEN WORDS WHICH IN HUMAN SPEECH IS IMPORTANT\n",
    "#STOP WORDS ARE WORDS LIKE AND/OR (WORDS THAT DO NOT HAVE A POSITIVE OR NEGATIVE FEELING)\n",
    "\n",
    "#WE WILL USE NLTK'S SENTIMENT_INTENSITY_ANALYZER TO GET THE NEG/NEU/POS SCORES OF THE TEXT\n",
    "#THIS USES A \"BAG OF WORDS\" APPROACH, STOP WORDS ARE REMOVED AND EACH WORD IS SCORED AND COMBINED TO A TOTAL SCORE\n",
    "\n",
    "from nltk.sentiment import SentimentIntensityAnalyzer\n",
    "from tqdm.notebook import tqdm\n",
    "\n",
    "#nltk.download('vader_lexicon')\n",
    "\n",
    "sia = SentimentIntensityAnalyzer()"
   ]
  },
  {
   "cell_type": "code",
   "execution_count": 68,
   "metadata": {},
   "outputs": [
    {
     "data": {
      "text/plain": [
       "{'neg': 0.0, 'neu': 0.213, 'pos': 0.787, 'compound': 0.5719}"
      ]
     },
     "execution_count": 68,
     "metadata": {},
     "output_type": "execute_result"
    }
   ],
   "source": [
    "#VADER SENTIMENT SCORING CONTINUATION\n",
    "\n",
    "sia.polarity_scores('I am  happy') #CHECK FOR EXAMPLE\n",
    "#COMPOUND VALUE RANGES FROM -1 TO +1 \n",
    "#TOWARDS -1 BEING THE MOST NEGATIVE, AND +1 TOWARDS MOST POSITIVE"
   ]
  },
  {
   "cell_type": "code",
   "execution_count": 69,
   "metadata": {},
   "outputs": [
    {
     "data": {
      "text/plain": [
       "{'neg': 0.6, 'neu': 0.4, 'pos': 0.0, 'compound': -0.4585}"
      ]
     },
     "execution_count": 69,
     "metadata": {},
     "output_type": "execute_result"
    }
   ],
   "source": [
    "#VADER SENTIMENT SCORING CONTINUATION\n",
    "\n",
    "sia.polarity_scores('I am not happy') #CHECK FOR EXAMPLE"
   ]
  },
  {
   "cell_type": "code",
   "execution_count": 70,
   "metadata": {},
   "outputs": [
    {
     "data": {
      "text/plain": [
       "{'neg': 0.194, 'neu': 0.484, 'pos': 0.322, 'compound': 0.3252}"
      ]
     },
     "execution_count": 70,
     "metadata": {},
     "output_type": "execute_result"
    }
   ],
   "source": [
    "#VADER SENTIMENT SCORING CONTINUATION\n",
    "\n",
    "sia.polarity_scores('I am not happy but not sad either') #CHECK FOR EXAMPLE"
   ]
  },
  {
   "cell_type": "code",
   "execution_count": 71,
   "metadata": {},
   "outputs": [
    {
     "data": {
      "text/plain": [
       "'Ambience is too good for a pleasant evening. Service is very prompt. Food is good. Over all a good experience. Soumen Das - kudos to the service'"
      ]
     },
     "execution_count": 71,
     "metadata": {},
     "output_type": "execute_result"
    }
   ],
   "source": [
    "#VADER SENTIMENT SCORING CONTINUATION\n",
    "\n",
    "example #PRINTS THE EXAMPLE THAT WE CHOSE EARLIER"
   ]
  },
  {
   "cell_type": "code",
   "execution_count": 72,
   "metadata": {},
   "outputs": [
    {
     "data": {
      "text/plain": [
       "{'neg': 0.0, 'neu': 0.554, 'pos': 0.446, 'compound': 0.936}"
      ]
     },
     "execution_count": 72,
     "metadata": {},
     "output_type": "execute_result"
    }
   ],
   "source": [
    "#VADER SENTIMENT SCORING CONTINUATION\n",
    "\n",
    "sia.polarity_scores(example)"
   ]
  },
  {
   "cell_type": "code",
   "execution_count": 73,
   "metadata": {},
   "outputs": [
    {
     "data": {
      "application/vnd.jupyter.widget-view+json": {
       "model_id": "ac525b35218d47a493c9fbc4f1cec610",
       "version_major": 2,
       "version_minor": 0
      },
      "text/plain": [
       "  0%|          | 0/101 [00:00<?, ?it/s]"
      ]
     },
     "metadata": {},
     "output_type": "display_data"
    }
   ],
   "source": [
    "#VADER SENTIMENT SCORING CONTINUATION\n",
    "\n",
    "#RUN THE POLARITY SCORE ON THE ENTIRE DATASET\n",
    "\n",
    "result = {} #DICTIONARY TO STORE THE POLARITY SCORES.\n",
    "\n",
    "for i, row in tqdm(df.iterrows(), total = len(df)):\n",
    "    rev = row['Review']\n",
    "    myID = row['Id']\n",
    "    result[myID] = sia.polarity_scores(rev) #IF YOU UNCOMMENT THE BELOW CODE, THEN COMMENT OUT THIS LINE\n",
    "\n",
    "    #IF YOU WANT TO DISPLAY RESTAURANT NAMES, UNCOMMENT THE BELOW CODE\n",
    "    #restaurant_name = row['Restaurant']\n",
    "    #scores = sia.polarity_scores(rev) \n",
    "    #scores['Restaurant'] = restaurant_name\n",
    "    #result[myID] = scores\n",
    "\n"
   ]
  },
  {
   "cell_type": "code",
   "execution_count": 74,
   "metadata": {},
   "outputs": [
    {
     "data": {
      "text/plain": [
       "{1.0: {'neg': 0.0, 'neu': 0.582, 'pos': 0.418, 'compound': 0.9664},\n",
       " 2.0: {'neg': 0.0, 'neu': 0.554, 'pos': 0.446, 'compound': 0.936},\n",
       " 3.0: {'neg': 0.0, 'neu': 0.692, 'pos': 0.308, 'compound': 0.9186},\n",
       " 4.0: {'neg': 0.0, 'neu': 0.708, 'pos': 0.292, 'compound': 0.8591},\n",
       " 5.0: {'neg': 0.0, 'neu': 0.609, 'pos': 0.391, 'compound': 0.9201},\n",
       " 6.0: {'neg': 0.0, 'neu': 0.541, 'pos': 0.459, 'compound': 0.9565},\n",
       " 7.0: {'neg': 0.0, 'neu': 0.786, 'pos': 0.214, 'compound': 0.7264},\n",
       " 8.0: {'neg': 0.085, 'neu': 0.775, 'pos': 0.14, 'compound': 0.2329},\n",
       " 9.0: {'neg': 0.0, 'neu': 0.545, 'pos': 0.455, 'compound': 0.9638},\n",
       " 10.0: {'neg': 0.0, 'neu': 0.565, 'pos': 0.435, 'compound': 0.9831},\n",
       " 11.0: {'neg': 0.0, 'neu': 0.627, 'pos': 0.373, 'compound': 0.9359},\n",
       " 12.0: {'neg': 0.0, 'neu': 0.459, 'pos': 0.541, 'compound': 0.9737},\n",
       " 13.0: {'neg': 0.0, 'neu': 0.786, 'pos': 0.214, 'compound': 0.8976},\n",
       " 14.0: {'neg': 0.0, 'neu': 0.756, 'pos': 0.244, 'compound': 0.7964},\n",
       " 15.0: {'neg': 0.154, 'neu': 0.776, 'pos': 0.07, 'compound': -0.4882},\n",
       " 16.0: {'neg': 0.0, 'neu': 0.876, 'pos': 0.124, 'compound': 0.5256},\n",
       " 17.0: {'neg': 0.0, 'neu': 0.789, 'pos': 0.211, 'compound': 0.8442},\n",
       " 18.0: {'neg': 0.0, 'neu': 0.723, 'pos': 0.277, 'compound': 0.9485},\n",
       " 19.0: {'neg': 0.0, 'neu': 0.569, 'pos': 0.431, 'compound': 0.9423},\n",
       " 20.0: {'neg': 0.0, 'neu': 0.748, 'pos': 0.252, 'compound': 0.7496},\n",
       " 21.0: {'neg': 0.0, 'neu': 0.657, 'pos': 0.343, 'compound': 0.9901},\n",
       " 22.0: {'neg': 0.085, 'neu': 0.817, 'pos': 0.098, 'compound': -0.1303},\n",
       " 23.0: {'neg': 0.0, 'neu': 0.675, 'pos': 0.325, 'compound': 0.8768},\n",
       " 24.0: {'neg': 0.0, 'neu': 0.526, 'pos': 0.474, 'compound': 0.9734},\n",
       " 25.0: {'neg': 0.0, 'neu': 0.6, 'pos': 0.4, 'compound': 0.9493},\n",
       " 26.0: {'neg': 0.0, 'neu': 0.61, 'pos': 0.39, 'compound': 0.9403},\n",
       " 27.0: {'neg': 0.0, 'neu': 0.704, 'pos': 0.296, 'compound': 0.8885},\n",
       " 28.0: {'neg': 0.0, 'neu': 0.603, 'pos': 0.397, 'compound': 0.9524},\n",
       " 29.0: {'neg': 0.0, 'neu': 0.451, 'pos': 0.549, 'compound': 0.9817},\n",
       " 30.0: {'neg': 0.108, 'neu': 0.802, 'pos': 0.09, 'compound': -0.1531},\n",
       " 31.0: {'neg': 0.124, 'neu': 0.766, 'pos': 0.11, 'compound': -0.3471},\n",
       " 32.0: {'neg': 0.0, 'neu': 0.59, 'pos': 0.41, 'compound': 0.9431},\n",
       " 33.0: {'neg': 0.0, 'neu': 0.807, 'pos': 0.193, 'compound': 0.8122},\n",
       " 34.0: {'neg': 0.0, 'neu': 0.423, 'pos': 0.577, 'compound': 0.9738},\n",
       " 35.0: {'neg': 0.0, 'neu': 0.524, 'pos': 0.476, 'compound': 0.9677},\n",
       " 36.0: {'neg': 0.0, 'neu': 0.665, 'pos': 0.335, 'compound': 0.9446},\n",
       " 37.0: {'neg': 0.0, 'neu': 0.811, 'pos': 0.189, 'compound': 0.6801},\n",
       " 38.0: {'neg': 0.0, 'neu': 0.704, 'pos': 0.296, 'compound': 0.8885},\n",
       " 39.0: {'neg': 0.0, 'neu': 0.636, 'pos': 0.364, 'compound': 0.9766},\n",
       " 40.0: {'neg': 0.0, 'neu': 0.872, 'pos': 0.128, 'compound': 0.6478},\n",
       " 41.0: {'neg': 0.0, 'neu': 0.641, 'pos': 0.359, 'compound': 0.9622},\n",
       " 42.0: {'neg': 0.0, 'neu': 0.519, 'pos': 0.481, 'compound': 0.9694},\n",
       " 43.0: {'neg': 0.072, 'neu': 0.719, 'pos': 0.209, 'compound': 0.7717},\n",
       " 44.0: {'neg': 0.0, 'neu': 0.873, 'pos': 0.127, 'compound': 0.9917},\n",
       " 45.0: {'neg': 0.0, 'neu': 0.621, 'pos': 0.379, 'compound': 0.9331},\n",
       " 46.0: {'neg': 0.033, 'neu': 0.933, 'pos': 0.034, 'compound': 0.0258},\n",
       " 47.0: {'neg': 0.0, 'neu': 0.552, 'pos': 0.448, 'compound': 0.9439},\n",
       " 48.0: {'neg': 0.0, 'neu': 0.596, 'pos': 0.404, 'compound': 0.9837},\n",
       " 49.0: {'neg': 0.0, 'neu': 0.657, 'pos': 0.343, 'compound': 0.9846},\n",
       " 50.0: {'neg': 0.0, 'neu': 0.664, 'pos': 0.336, 'compound': 0.928},\n",
       " 51.0: {'neg': 0.0, 'neu': 0.654, 'pos': 0.346, 'compound': 0.9022},\n",
       " 52.0: {'neg': 0.0, 'neu': 0.834, 'pos': 0.166, 'compound': 0.659},\n",
       " 53.0: {'neg': 0.0, 'neu': 0.749, 'pos': 0.251, 'compound': 0.8658},\n",
       " 54.0: {'neg': 0.052, 'neu': 0.546, 'pos': 0.402, 'compound': 0.92},\n",
       " 55.0: {'neg': 0.0, 'neu': 0.543, 'pos': 0.457, 'compound': 0.9604},\n",
       " 56.0: {'neg': 0.0, 'neu': 0.828, 'pos': 0.172, 'compound': 0.7003},\n",
       " 57.0: {'neg': 0.052, 'neu': 0.789, 'pos': 0.159, 'compound': 0.9562},\n",
       " 58.0: {'neg': 0.0, 'neu': 0.547, 'pos': 0.453, 'compound': 0.9409},\n",
       " 59.0: {'neg': 0.0, 'neu': 0.709, 'pos': 0.291, 'compound': 0.9673},\n",
       " 60.0: {'neg': 0.05, 'neu': 0.704, 'pos': 0.246, 'compound': 0.8189},\n",
       " 61.0: {'neg': 0.0, 'neu': 0.587, 'pos': 0.413, 'compound': 0.9379},\n",
       " 62.0: {'neg': 0.0, 'neu': 0.533, 'pos': 0.467, 'compound': 0.9689},\n",
       " 63.0: {'neg': 0.0, 'neu': 0.69, 'pos': 0.31, 'compound': 0.8714},\n",
       " 64.0: {'neg': 0.0, 'neu': 0.812, 'pos': 0.188, 'compound': 0.6997},\n",
       " 65.0: {'neg': 0.0, 'neu': 0.593, 'pos': 0.407, 'compound': 0.9246},\n",
       " 66.0: {'neg': 0.0, 'neu': 0.671, 'pos': 0.329, 'compound': 0.9148},\n",
       " 67.0: {'neg': 0.17, 'neu': 0.714, 'pos': 0.116, 'compound': -0.431},\n",
       " 68.0: {'neg': 0.0, 'neu': 0.824, 'pos': 0.176, 'compound': 0.9505},\n",
       " 69.0: {'neg': 0.0, 'neu': 0.631, 'pos': 0.369, 'compound': 0.9863},\n",
       " 70.0: {'neg': 0.0, 'neu': 0.652, 'pos': 0.348, 'compound': 0.8932},\n",
       " 71.0: {'neg': 0.0, 'neu': 0.792, 'pos': 0.208, 'compound': 0.7964},\n",
       " 72.0: {'neg': 0.0, 'neu': 0.67, 'pos': 0.33, 'compound': 0.9726},\n",
       " 73.0: {'neg': 0.0, 'neu': 0.687, 'pos': 0.313, 'compound': 0.8883},\n",
       " 74.0: {'neg': 0.0, 'neu': 0.821, 'pos': 0.179, 'compound': 0.992},\n",
       " 75.0: {'neg': 0.0, 'neu': 0.453, 'pos': 0.547, 'compound': 0.9833},\n",
       " 76.0: {'neg': 0.117, 'neu': 0.867, 'pos': 0.015, 'compound': -0.9194},\n",
       " 77.0: {'neg': 0.044, 'neu': 0.875, 'pos': 0.081, 'compound': 0.5574},\n",
       " 78.0: {'neg': 0.0, 'neu': 0.562, 'pos': 0.438, 'compound': 0.9651},\n",
       " 79.0: {'neg': 0.0, 'neu': 0.463, 'pos': 0.537, 'compound': 0.9794},\n",
       " 80.0: {'neg': 0.067, 'neu': 0.859, 'pos': 0.074, 'compound': 0.3471},\n",
       " 81.0: {'neg': 0.282, 'neu': 0.718, 'pos': 0.0, 'compound': -0.8625},\n",
       " 82.0: {'neg': 0.0, 'neu': 0.498, 'pos': 0.502, 'compound': 0.9648},\n",
       " 83.0: {'neg': 0.0, 'neu': 0.806, 'pos': 0.194, 'compound': 0.854},\n",
       " 84.0: {'neg': 0.244, 'neu': 0.7, 'pos': 0.055, 'compound': -0.7554},\n",
       " 85.0: {'neg': 0.075, 'neu': 0.831, 'pos': 0.094, 'compound': 0.4096},\n",
       " 86.0: {'neg': 0.0, 'neu': 0.693, 'pos': 0.307, 'compound': 0.9427},\n",
       " 87.0: {'neg': 0.0, 'neu': 0.675, 'pos': 0.325, 'compound': 0.9421},\n",
       " 88.0: {'neg': 0.0, 'neu': 0.612, 'pos': 0.388, 'compound': 0.9477},\n",
       " 89.0: {'neg': 0.0, 'neu': 0.658, 'pos': 0.342, 'compound': 0.9183},\n",
       " 90.0: {'neg': 0.138, 'neu': 0.862, 'pos': 0.0, 'compound': -0.6961},\n",
       " 91.0: {'neg': 0.0, 'neu': 0.807, 'pos': 0.193, 'compound': 0.7351},\n",
       " 92.0: {'neg': 0.097, 'neu': 0.85, 'pos': 0.052, 'compound': -0.3919},\n",
       " 93.0: {'neg': 0.141, 'neu': 0.758, 'pos': 0.101, 'compound': -0.2885},\n",
       " 94.0: {'neg': 0.088, 'neu': 0.807, 'pos': 0.105, 'compound': 0.1139},\n",
       " 95.0: {'neg': 0.036, 'neu': 0.592, 'pos': 0.371, 'compound': 0.959},\n",
       " 96.0: {'neg': 0.179, 'neu': 0.759, 'pos': 0.062, 'compound': -0.8683},\n",
       " 97.0: {'neg': 0.0, 'neu': 0.738, 'pos': 0.262, 'compound': 0.8832},\n",
       " 98.0: {'neg': 0.0, 'neu': 0.873, 'pos': 0.127, 'compound': 0.6369},\n",
       " 99.0: {'neg': 0.346, 'neu': 0.654, 'pos': 0.0, 'compound': -0.9137},\n",
       " 100.0: {'neg': 0.0, 'neu': 1.0, 'pos': 0.0, 'compound': 0.0},\n",
       " 101.0: {'neg': 0.0, 'neu': 0.418, 'pos': 0.582, 'compound': 0.9693}}"
      ]
     },
     "execution_count": 74,
     "metadata": {},
     "output_type": "execute_result"
    }
   ],
   "source": [
    "#VADER SENTIMENT SCORING CONTINUATION\n",
    "\n",
    "result"
   ]
  },
  {
   "cell_type": "code",
   "execution_count": 75,
   "metadata": {},
   "outputs": [
    {
     "data": {
      "text/html": [
       "<div>\n",
       "<style scoped>\n",
       "    .dataframe tbody tr th:only-of-type {\n",
       "        vertical-align: middle;\n",
       "    }\n",
       "\n",
       "    .dataframe tbody tr th {\n",
       "        vertical-align: top;\n",
       "    }\n",
       "\n",
       "    .dataframe thead th {\n",
       "        text-align: right;\n",
       "    }\n",
       "</style>\n",
       "<table border=\"1\" class=\"dataframe\">\n",
       "  <thead>\n",
       "    <tr style=\"text-align: right;\">\n",
       "      <th></th>\n",
       "      <th>neg</th>\n",
       "      <th>neu</th>\n",
       "      <th>pos</th>\n",
       "      <th>compound</th>\n",
       "    </tr>\n",
       "  </thead>\n",
       "  <tbody>\n",
       "    <tr>\n",
       "      <th>1.0</th>\n",
       "      <td>0.000</td>\n",
       "      <td>0.582</td>\n",
       "      <td>0.418</td>\n",
       "      <td>0.9664</td>\n",
       "    </tr>\n",
       "    <tr>\n",
       "      <th>2.0</th>\n",
       "      <td>0.000</td>\n",
       "      <td>0.554</td>\n",
       "      <td>0.446</td>\n",
       "      <td>0.9360</td>\n",
       "    </tr>\n",
       "    <tr>\n",
       "      <th>3.0</th>\n",
       "      <td>0.000</td>\n",
       "      <td>0.692</td>\n",
       "      <td>0.308</td>\n",
       "      <td>0.9186</td>\n",
       "    </tr>\n",
       "    <tr>\n",
       "      <th>4.0</th>\n",
       "      <td>0.000</td>\n",
       "      <td>0.708</td>\n",
       "      <td>0.292</td>\n",
       "      <td>0.8591</td>\n",
       "    </tr>\n",
       "    <tr>\n",
       "      <th>5.0</th>\n",
       "      <td>0.000</td>\n",
       "      <td>0.609</td>\n",
       "      <td>0.391</td>\n",
       "      <td>0.9201</td>\n",
       "    </tr>\n",
       "    <tr>\n",
       "      <th>...</th>\n",
       "      <td>...</td>\n",
       "      <td>...</td>\n",
       "      <td>...</td>\n",
       "      <td>...</td>\n",
       "    </tr>\n",
       "    <tr>\n",
       "      <th>97.0</th>\n",
       "      <td>0.000</td>\n",
       "      <td>0.738</td>\n",
       "      <td>0.262</td>\n",
       "      <td>0.8832</td>\n",
       "    </tr>\n",
       "    <tr>\n",
       "      <th>98.0</th>\n",
       "      <td>0.000</td>\n",
       "      <td>0.873</td>\n",
       "      <td>0.127</td>\n",
       "      <td>0.6369</td>\n",
       "    </tr>\n",
       "    <tr>\n",
       "      <th>99.0</th>\n",
       "      <td>0.346</td>\n",
       "      <td>0.654</td>\n",
       "      <td>0.000</td>\n",
       "      <td>-0.9137</td>\n",
       "    </tr>\n",
       "    <tr>\n",
       "      <th>100.0</th>\n",
       "      <td>0.000</td>\n",
       "      <td>1.000</td>\n",
       "      <td>0.000</td>\n",
       "      <td>0.0000</td>\n",
       "    </tr>\n",
       "    <tr>\n",
       "      <th>101.0</th>\n",
       "      <td>0.000</td>\n",
       "      <td>0.418</td>\n",
       "      <td>0.582</td>\n",
       "      <td>0.9693</td>\n",
       "    </tr>\n",
       "  </tbody>\n",
       "</table>\n",
       "<p>101 rows × 4 columns</p>\n",
       "</div>"
      ],
      "text/plain": [
       "         neg    neu    pos  compound\n",
       "1.0    0.000  0.582  0.418    0.9664\n",
       "2.0    0.000  0.554  0.446    0.9360\n",
       "3.0    0.000  0.692  0.308    0.9186\n",
       "4.0    0.000  0.708  0.292    0.8591\n",
       "5.0    0.000  0.609  0.391    0.9201\n",
       "...      ...    ...    ...       ...\n",
       "97.0   0.000  0.738  0.262    0.8832\n",
       "98.0   0.000  0.873  0.127    0.6369\n",
       "99.0   0.346  0.654  0.000   -0.9137\n",
       "100.0  0.000  1.000  0.000    0.0000\n",
       "101.0  0.000  0.418  0.582    0.9693\n",
       "\n",
       "[101 rows x 4 columns]"
      ]
     },
     "execution_count": 75,
     "metadata": {},
     "output_type": "execute_result"
    }
   ],
   "source": [
    "#VADER SENTIMENT SCORING CONTINUATION\n",
    "\n",
    "#store into pandas dataframe for an organized order.\n",
    "\n",
    "vaders = pd.DataFrame(result).T  #.T flips the whole table.\n",
    "vaders"
   ]
  },
  {
   "cell_type": "code",
   "execution_count": 76,
   "metadata": {},
   "outputs": [
    {
     "data": {
      "text/html": [
       "<div>\n",
       "<style scoped>\n",
       "    .dataframe tbody tr th:only-of-type {\n",
       "        vertical-align: middle;\n",
       "    }\n",
       "\n",
       "    .dataframe tbody tr th {\n",
       "        vertical-align: top;\n",
       "    }\n",
       "\n",
       "    .dataframe thead th {\n",
       "        text-align: right;\n",
       "    }\n",
       "</style>\n",
       "<table border=\"1\" class=\"dataframe\">\n",
       "  <thead>\n",
       "    <tr style=\"text-align: right;\">\n",
       "      <th></th>\n",
       "      <th>Id</th>\n",
       "      <th>neg</th>\n",
       "      <th>neu</th>\n",
       "      <th>pos</th>\n",
       "      <th>compound</th>\n",
       "      <th>Restaurant</th>\n",
       "      <th>Reviewer</th>\n",
       "      <th>Review</th>\n",
       "      <th>Rating</th>\n",
       "      <th>Metadata</th>\n",
       "      <th>Time</th>\n",
       "      <th>Pictures</th>\n",
       "    </tr>\n",
       "  </thead>\n",
       "  <tbody>\n",
       "    <tr>\n",
       "      <th>0</th>\n",
       "      <td>1.0</td>\n",
       "      <td>0.000</td>\n",
       "      <td>0.582</td>\n",
       "      <td>0.418</td>\n",
       "      <td>0.9664</td>\n",
       "      <td>Beyond Flavours</td>\n",
       "      <td>Rusha Chakraborty</td>\n",
       "      <td>The ambience was good, food was quite good . h...</td>\n",
       "      <td>5</td>\n",
       "      <td>1 Review , 2 Followers</td>\n",
       "      <td>5/25/2019 15:54</td>\n",
       "      <td>0</td>\n",
       "    </tr>\n",
       "    <tr>\n",
       "      <th>1</th>\n",
       "      <td>2.0</td>\n",
       "      <td>0.000</td>\n",
       "      <td>0.554</td>\n",
       "      <td>0.446</td>\n",
       "      <td>0.9360</td>\n",
       "      <td>Beyond Flavours</td>\n",
       "      <td>Anusha Tirumalaneedi</td>\n",
       "      <td>Ambience is too good for a pleasant evening. S...</td>\n",
       "      <td>5</td>\n",
       "      <td>3 Reviews , 2 Followers</td>\n",
       "      <td>5/25/2019 14:20</td>\n",
       "      <td>0</td>\n",
       "    </tr>\n",
       "    <tr>\n",
       "      <th>2</th>\n",
       "      <td>3.0</td>\n",
       "      <td>0.000</td>\n",
       "      <td>0.692</td>\n",
       "      <td>0.308</td>\n",
       "      <td>0.9186</td>\n",
       "      <td>Beyond Flavours</td>\n",
       "      <td>Ashok Shekhawat</td>\n",
       "      <td>A must try.. great food great ambience. Thnx f...</td>\n",
       "      <td>5</td>\n",
       "      <td>2 Reviews , 3 Followers</td>\n",
       "      <td>5/24/2019 22:54</td>\n",
       "      <td>0</td>\n",
       "    </tr>\n",
       "    <tr>\n",
       "      <th>3</th>\n",
       "      <td>4.0</td>\n",
       "      <td>0.000</td>\n",
       "      <td>0.708</td>\n",
       "      <td>0.292</td>\n",
       "      <td>0.8591</td>\n",
       "      <td>Beyond Flavours</td>\n",
       "      <td>Swapnil Sarkar</td>\n",
       "      <td>Soumen das and Arun was a great guy. Only beca...</td>\n",
       "      <td>5</td>\n",
       "      <td>1 Review , 1 Follower</td>\n",
       "      <td>5/24/2019 22:11</td>\n",
       "      <td>0</td>\n",
       "    </tr>\n",
       "    <tr>\n",
       "      <th>4</th>\n",
       "      <td>5.0</td>\n",
       "      <td>0.000</td>\n",
       "      <td>0.609</td>\n",
       "      <td>0.391</td>\n",
       "      <td>0.9201</td>\n",
       "      <td>Beyond Flavours</td>\n",
       "      <td>Dileep</td>\n",
       "      <td>Food is good.we ordered Kodi drumsticks and ba...</td>\n",
       "      <td>5</td>\n",
       "      <td>3 Reviews , 2 Followers</td>\n",
       "      <td>5/24/2019 21:37</td>\n",
       "      <td>0</td>\n",
       "    </tr>\n",
       "    <tr>\n",
       "      <th>...</th>\n",
       "      <td>...</td>\n",
       "      <td>...</td>\n",
       "      <td>...</td>\n",
       "      <td>...</td>\n",
       "      <td>...</td>\n",
       "      <td>...</td>\n",
       "      <td>...</td>\n",
       "      <td>...</td>\n",
       "      <td>...</td>\n",
       "      <td>...</td>\n",
       "      <td>...</td>\n",
       "      <td>...</td>\n",
       "    </tr>\n",
       "    <tr>\n",
       "      <th>96</th>\n",
       "      <td>97.0</td>\n",
       "      <td>0.000</td>\n",
       "      <td>0.738</td>\n",
       "      <td>0.262</td>\n",
       "      <td>0.8832</td>\n",
       "      <td>Beyond Flavours</td>\n",
       "      <td>Kailash Sain</td>\n",
       "      <td>I really enjoyed the follows....\\nThe entrance...</td>\n",
       "      <td>5</td>\n",
       "      <td>1 Review</td>\n",
       "      <td>05-03-19 20:10</td>\n",
       "      <td>0</td>\n",
       "    </tr>\n",
       "    <tr>\n",
       "      <th>97</th>\n",
       "      <td>98.0</td>\n",
       "      <td>0.000</td>\n",
       "      <td>0.873</td>\n",
       "      <td>0.127</td>\n",
       "      <td>0.6369</td>\n",
       "      <td>Beyond Flavours</td>\n",
       "      <td>KAILASH SAIN</td>\n",
       "      <td>I came first time in this restaurant.\\nThe ent...</td>\n",
       "      <td>5</td>\n",
       "      <td>1 Review</td>\n",
       "      <td>05-03-19 20:06</td>\n",
       "      <td>0</td>\n",
       "    </tr>\n",
       "    <tr>\n",
       "      <th>98</th>\n",
       "      <td>99.0</td>\n",
       "      <td>0.346</td>\n",
       "      <td>0.654</td>\n",
       "      <td>0.000</td>\n",
       "      <td>-0.9137</td>\n",
       "      <td>Beyond Flavours</td>\n",
       "      <td>Yaswanth Chowdary</td>\n",
       "      <td>Pathetic and horrible experience\\nAmbience and...</td>\n",
       "      <td>2</td>\n",
       "      <td>4 Reviews , 56 Followers</td>\n",
       "      <td>05-03-19 11:40</td>\n",
       "      <td>0</td>\n",
       "    </tr>\n",
       "    <tr>\n",
       "      <th>99</th>\n",
       "      <td>100.0</td>\n",
       "      <td>0.000</td>\n",
       "      <td>1.000</td>\n",
       "      <td>0.000</td>\n",
       "      <td>0.0000</td>\n",
       "      <td>Beyond Flavours</td>\n",
       "      <td>Aditya</td>\n",
       "      <td>Ahmed was serving us. Polite and very cooperat...</td>\n",
       "      <td>4</td>\n",
       "      <td>4 Reviews , 46 Followers</td>\n",
       "      <td>05-02-19 23:28</td>\n",
       "      <td>1</td>\n",
       "    </tr>\n",
       "    <tr>\n",
       "      <th>100</th>\n",
       "      <td>101.0</td>\n",
       "      <td>0.000</td>\n",
       "      <td>0.418</td>\n",
       "      <td>0.582</td>\n",
       "      <td>0.9693</td>\n",
       "      <td>Paradise</td>\n",
       "      <td>Subodh Deshmukh</td>\n",
       "      <td>Paradise Biryani is really good service also g...</td>\n",
       "      <td>5</td>\n",
       "      <td>1 Review , 1 Follower</td>\n",
       "      <td>5/25/2019 16:50</td>\n",
       "      <td>0</td>\n",
       "    </tr>\n",
       "  </tbody>\n",
       "</table>\n",
       "<p>101 rows × 12 columns</p>\n",
       "</div>"
      ],
      "text/plain": [
       "        Id    neg    neu    pos  compound       Restaurant  \\\n",
       "0      1.0  0.000  0.582  0.418    0.9664  Beyond Flavours   \n",
       "1      2.0  0.000  0.554  0.446    0.9360  Beyond Flavours   \n",
       "2      3.0  0.000  0.692  0.308    0.9186  Beyond Flavours   \n",
       "3      4.0  0.000  0.708  0.292    0.8591  Beyond Flavours   \n",
       "4      5.0  0.000  0.609  0.391    0.9201  Beyond Flavours   \n",
       "..     ...    ...    ...    ...       ...              ...   \n",
       "96    97.0  0.000  0.738  0.262    0.8832  Beyond Flavours   \n",
       "97    98.0  0.000  0.873  0.127    0.6369  Beyond Flavours   \n",
       "98    99.0  0.346  0.654  0.000   -0.9137  Beyond Flavours   \n",
       "99   100.0  0.000  1.000  0.000    0.0000  Beyond Flavours   \n",
       "100  101.0  0.000  0.418  0.582    0.9693         Paradise   \n",
       "\n",
       "                 Reviewer                                             Review  \\\n",
       "0       Rusha Chakraborty  The ambience was good, food was quite good . h...   \n",
       "1    Anusha Tirumalaneedi  Ambience is too good for a pleasant evening. S...   \n",
       "2         Ashok Shekhawat  A must try.. great food great ambience. Thnx f...   \n",
       "3          Swapnil Sarkar  Soumen das and Arun was a great guy. Only beca...   \n",
       "4                  Dileep  Food is good.we ordered Kodi drumsticks and ba...   \n",
       "..                    ...                                                ...   \n",
       "96           Kailash Sain  I really enjoyed the follows....\\nThe entrance...   \n",
       "97           KAILASH SAIN  I came first time in this restaurant.\\nThe ent...   \n",
       "98      Yaswanth Chowdary  Pathetic and horrible experience\\nAmbience and...   \n",
       "99                 Aditya  Ahmed was serving us. Polite and very cooperat...   \n",
       "100       Subodh Deshmukh  Paradise Biryani is really good service also g...   \n",
       "\n",
       "    Rating                  Metadata             Time  Pictures  \n",
       "0        5    1 Review , 2 Followers  5/25/2019 15:54         0  \n",
       "1        5   3 Reviews , 2 Followers  5/25/2019 14:20         0  \n",
       "2        5   2 Reviews , 3 Followers  5/24/2019 22:54         0  \n",
       "3        5     1 Review , 1 Follower  5/24/2019 22:11         0  \n",
       "4        5   3 Reviews , 2 Followers  5/24/2019 21:37         0  \n",
       "..     ...                       ...              ...       ...  \n",
       "96       5                  1 Review   05-03-19 20:10         0  \n",
       "97       5                  1 Review   05-03-19 20:06         0  \n",
       "98       2  4 Reviews , 56 Followers   05-03-19 11:40         0  \n",
       "99       4  4 Reviews , 46 Followers   05-02-19 23:28         1  \n",
       "100      5     1 Review , 1 Follower  5/25/2019 16:50         0  \n",
       "\n",
       "[101 rows x 12 columns]"
      ]
     },
     "execution_count": 76,
     "metadata": {},
     "output_type": "execute_result"
    }
   ],
   "source": [
    "#VADER SENTIMENT SCORING CONTINUATION\n",
    "\n",
    "vaders = vaders.reset_index().rename(columns={'index': 'Id'}) #merge it onto our original data frame\n",
    "vaders = vaders.merge(df, how='left')\n",
    "vaders"
   ]
  },
  {
   "cell_type": "code",
   "execution_count": 77,
   "metadata": {},
   "outputs": [
    {
     "data": {
      "text/html": [
       "<div>\n",
       "<style scoped>\n",
       "    .dataframe tbody tr th:only-of-type {\n",
       "        vertical-align: middle;\n",
       "    }\n",
       "\n",
       "    .dataframe tbody tr th {\n",
       "        vertical-align: top;\n",
       "    }\n",
       "\n",
       "    .dataframe thead th {\n",
       "        text-align: right;\n",
       "    }\n",
       "</style>\n",
       "<table border=\"1\" class=\"dataframe\">\n",
       "  <thead>\n",
       "    <tr style=\"text-align: right;\">\n",
       "      <th></th>\n",
       "      <th>Id</th>\n",
       "      <th>neg</th>\n",
       "      <th>neu</th>\n",
       "      <th>pos</th>\n",
       "      <th>compound</th>\n",
       "      <th>Restaurant</th>\n",
       "      <th>Reviewer</th>\n",
       "      <th>Review</th>\n",
       "      <th>Rating</th>\n",
       "      <th>Metadata</th>\n",
       "      <th>Time</th>\n",
       "      <th>Pictures</th>\n",
       "    </tr>\n",
       "  </thead>\n",
       "  <tbody>\n",
       "    <tr>\n",
       "      <th>0</th>\n",
       "      <td>1.0</td>\n",
       "      <td>0.0</td>\n",
       "      <td>0.582</td>\n",
       "      <td>0.418</td>\n",
       "      <td>0.9664</td>\n",
       "      <td>Beyond Flavours</td>\n",
       "      <td>Rusha Chakraborty</td>\n",
       "      <td>The ambience was good, food was quite good . h...</td>\n",
       "      <td>5</td>\n",
       "      <td>1 Review , 2 Followers</td>\n",
       "      <td>5/25/2019 15:54</td>\n",
       "      <td>0</td>\n",
       "    </tr>\n",
       "    <tr>\n",
       "      <th>1</th>\n",
       "      <td>2.0</td>\n",
       "      <td>0.0</td>\n",
       "      <td>0.554</td>\n",
       "      <td>0.446</td>\n",
       "      <td>0.9360</td>\n",
       "      <td>Beyond Flavours</td>\n",
       "      <td>Anusha Tirumalaneedi</td>\n",
       "      <td>Ambience is too good for a pleasant evening. S...</td>\n",
       "      <td>5</td>\n",
       "      <td>3 Reviews , 2 Followers</td>\n",
       "      <td>5/25/2019 14:20</td>\n",
       "      <td>0</td>\n",
       "    </tr>\n",
       "    <tr>\n",
       "      <th>2</th>\n",
       "      <td>3.0</td>\n",
       "      <td>0.0</td>\n",
       "      <td>0.692</td>\n",
       "      <td>0.308</td>\n",
       "      <td>0.9186</td>\n",
       "      <td>Beyond Flavours</td>\n",
       "      <td>Ashok Shekhawat</td>\n",
       "      <td>A must try.. great food great ambience. Thnx f...</td>\n",
       "      <td>5</td>\n",
       "      <td>2 Reviews , 3 Followers</td>\n",
       "      <td>5/24/2019 22:54</td>\n",
       "      <td>0</td>\n",
       "    </tr>\n",
       "    <tr>\n",
       "      <th>3</th>\n",
       "      <td>4.0</td>\n",
       "      <td>0.0</td>\n",
       "      <td>0.708</td>\n",
       "      <td>0.292</td>\n",
       "      <td>0.8591</td>\n",
       "      <td>Beyond Flavours</td>\n",
       "      <td>Swapnil Sarkar</td>\n",
       "      <td>Soumen das and Arun was a great guy. Only beca...</td>\n",
       "      <td>5</td>\n",
       "      <td>1 Review , 1 Follower</td>\n",
       "      <td>5/24/2019 22:11</td>\n",
       "      <td>0</td>\n",
       "    </tr>\n",
       "    <tr>\n",
       "      <th>4</th>\n",
       "      <td>5.0</td>\n",
       "      <td>0.0</td>\n",
       "      <td>0.609</td>\n",
       "      <td>0.391</td>\n",
       "      <td>0.9201</td>\n",
       "      <td>Beyond Flavours</td>\n",
       "      <td>Dileep</td>\n",
       "      <td>Food is good.we ordered Kodi drumsticks and ba...</td>\n",
       "      <td>5</td>\n",
       "      <td>3 Reviews , 2 Followers</td>\n",
       "      <td>5/24/2019 21:37</td>\n",
       "      <td>0</td>\n",
       "    </tr>\n",
       "  </tbody>\n",
       "</table>\n",
       "</div>"
      ],
      "text/plain": [
       "    Id  neg    neu    pos  compound       Restaurant              Reviewer  \\\n",
       "0  1.0  0.0  0.582  0.418    0.9664  Beyond Flavours     Rusha Chakraborty   \n",
       "1  2.0  0.0  0.554  0.446    0.9360  Beyond Flavours  Anusha Tirumalaneedi   \n",
       "2  3.0  0.0  0.692  0.308    0.9186  Beyond Flavours       Ashok Shekhawat   \n",
       "3  4.0  0.0  0.708  0.292    0.8591  Beyond Flavours        Swapnil Sarkar   \n",
       "4  5.0  0.0  0.609  0.391    0.9201  Beyond Flavours                Dileep   \n",
       "\n",
       "                                              Review Rating  \\\n",
       "0  The ambience was good, food was quite good . h...      5   \n",
       "1  Ambience is too good for a pleasant evening. S...      5   \n",
       "2  A must try.. great food great ambience. Thnx f...      5   \n",
       "3  Soumen das and Arun was a great guy. Only beca...      5   \n",
       "4  Food is good.we ordered Kodi drumsticks and ba...      5   \n",
       "\n",
       "                  Metadata             Time  Pictures  \n",
       "0   1 Review , 2 Followers  5/25/2019 15:54         0  \n",
       "1  3 Reviews , 2 Followers  5/25/2019 14:20         0  \n",
       "2  2 Reviews , 3 Followers  5/24/2019 22:54         0  \n",
       "3    1 Review , 1 Follower  5/24/2019 22:11         0  \n",
       "4  3 Reviews , 2 Followers  5/24/2019 21:37         0  "
      ]
     },
     "execution_count": 77,
     "metadata": {},
     "output_type": "execute_result"
    }
   ],
   "source": [
    "#VADER SENTIMENT SCORING CONTINUATION\n",
    "\n",
    "#NOW WE HAVE THE SENTIMENT SCORES AND THE METADATA.\n",
    "vaders.head()"
   ]
  },
  {
   "cell_type": "code",
   "execution_count": 78,
   "metadata": {},
   "outputs": [
    {
     "data": {
      "image/png": "[encoded data removed]",
      "text/plain": [
       "<Figure size 640x480 with 1 Axes>"
      ]
     },
     "metadata": {},
     "output_type": "display_data"
    }
   ],
   "source": [
    "#VADER SENTIMENT SCORING CONTINUATION\n",
    "\n",
    "sns.barplot(data=vaders, x = 'Rating', y = 'compound')\n",
    "ax.set_title('Compound score by Ratings.')\n",
    "plt.show()\n"
   ]
  },
  {
   "cell_type": "code",
   "execution_count": 79,
   "metadata": {},
   "outputs": [
    {
     "data": {
      "image/png": "[encoded data removed]",
      "text/plain": [
       "<Figure size 640x480 with 1 Axes>"
      ]
     },
     "metadata": {},
     "output_type": "display_data"
    }
   ],
   "source": [
    "#VADER SENTIMENT SCORING CONTINUATION\n",
    "\n",
    "sns.barplot(data=vaders, x = 'Rating', y = 'pos')\n",
    "ax.set_title('Compound score by Ratings.')\n",
    "plt.show()"
   ]
  },
  {
   "cell_type": "code",
   "execution_count": 80,
   "metadata": {},
   "outputs": [
    {
     "data": {
      "image/png": "[encoded data removed]",
      "text/plain": [
       "<Figure size 640x480 with 1 Axes>"
      ]
     },
     "metadata": {},
     "output_type": "display_data"
    }
   ],
   "source": [
    "#VADER SENTIMENT SCORING CONTINUATION\n",
    "\n",
    "sns.barplot(data=vaders, x = 'Rating', y = 'neg')\n",
    "ax.set_title('Compound score by Ratings.')\n",
    "plt.show()"
   ]
  },
  {
   "cell_type": "code",
   "execution_count": 81,
   "metadata": {},
   "outputs": [
    {
     "data": {
      "image/png": "[encoded data removed]",
      "text/plain": [
       "<Figure size 640x480 with 1 Axes>"
      ]
     },
     "metadata": {},
     "output_type": "display_data"
    }
   ],
   "source": [
    "#VADER SENTIMENT SCORING CONTINUATION\n",
    "\n",
    "sns.barplot(data=vaders, x = 'Rating', y = 'neu')\n",
    "ax.set_title('Compound score by Ratings.')\n",
    "plt.show()"
   ]
  },
  {
   "cell_type": "code",
   "execution_count": 82,
   "metadata": {},
   "outputs": [
    {
     "data": {
      "image/png": "[encoded data removed]",
      "text/plain": [
       "<Figure size 1200x300 with 3 Axes>"
      ]
     },
     "metadata": {},
     "output_type": "display_data"
    }
   ],
   "source": [
    "#VADER SENTIMENT SCORING CONTINUATION\n",
    "\n",
    "fig, axs = plt.subplots(1, 3, figsize=(12, 3))\n",
    "sns.barplot(data=vaders, x = 'Rating', y = 'pos', ax = axs[0])\n",
    "sns.barplot(data=vaders, x = 'Rating', y = 'neg', ax = axs[1])\n",
    "sns.barplot(data=vaders, x = 'Rating', y = 'neu', ax = axs[2])\n",
    "axs[0].set_title('Positive')\n",
    "axs[1].set_title('Negative')\n",
    "axs[2].set_title('Neutral')\n",
    "plt.tight_layout() #to avoid the overlapping of y axis labels\n",
    "plt.show()"
   ]
  },
  {
   "cell_type": "code",
   "execution_count": 83,
   "metadata": {},
   "outputs": [],
   "source": [
    "#ROBERTA PRETRAINED MODEL\n",
    "\n",
    "#MODEL TRAINED OF A LARGE CORPUS OF DATA\n",
    "#TRANSFORMER MODEL ACCOUNTS FOR THE WORDS BUT ALSO THE CONTEXT RELATED TO WORDS.\n",
    "#PICKS UP RELATIONSHIP BETWEEN THE WORDS (SARCASM WAGERA)\n",
    "\n",
    "#WE WILL USE HUGGING FACE\n",
    "\n",
    "from transformers import AutoTokenizer\n",
    "from transformers import AutoModelForSequenceClassification\n",
    "from scipy.special import softmax"
   ]
  },
  {
   "cell_type": "code",
   "execution_count": 84,
   "metadata": {},
   "outputs": [],
   "source": [
    "#ROBERTA PRETRAINED MODEL CONTINUATION\n",
    "\n",
    "MODEL = f\"cardiffnlp/twitter-roberta-base-sentiment\"\n",
    "tokenizer = AutoTokenizer.from_pretrained(MODEL)\n",
    "model = AutoModelForSequenceClassification.from_pretrained(MODEL)\n",
    "\n",
    "#LOADS EVERYTHING FROM A PRETRAINED MODEL\n",
    "#PULLS DOWN THE MODEL WEIGHTS THAT HAVE BEEN STORED \n",
    "#ESSENTIALLY DOING TRANSFER LEARNING\n",
    "#IT WAS TRAINED ON A BUNCH OF TWITTER COMMENTS THAT WERE LABELED AND WE DONT HAVE TO RETRAIN THE MODEL AT ALL\n",
    "#WE CAN USE THESE TRAINED WEIGHTS AND APPLY TO OUR DATASETS.\n",
    "#DOWNLOADS IT ALL WHEN FIRST TIME IS USED \n",
    "\n"
   ]
  },
  {
   "cell_type": "code",
   "execution_count": 85,
   "metadata": {},
   "outputs": [
    {
     "name": "stdout",
     "output_type": "stream",
     "text": [
      "Ambience is too good for a pleasant evening. Service is very prompt. Food is good. Over all a good experience. Soumen Das - kudos to the service\n"
     ]
    },
    {
     "data": {
      "text/plain": [
       "{'neg': 0.0, 'neu': 0.554, 'pos': 0.446, 'compound': 0.936}"
      ]
     },
     "execution_count": 85,
     "metadata": {},
     "output_type": "execute_result"
    }
   ],
   "source": [
    "#ROBERTA PRETRAINED MODEL CONTINUATION\n",
    "\n",
    "#JUST TO RECALL THE VADER RESULTS ON OUR EXAMPLE\n",
    "print(example)\n",
    "sia.polarity_scores(example)"
   ]
  },
  {
   "cell_type": "code",
   "execution_count": 86,
   "metadata": {},
   "outputs": [
    {
     "data": {
      "text/plain": [
       "{'input_ids': tensor([[    0, 36376, 11465,    16,   350,   205,    13,    10, 16219,  1559,\n",
       "             4,  1841,    16,   182, 14302,     4,  3652,    16,   205,     4,\n",
       "          2306,    70,    10,   205,   676,     4, 13190,  2262,  9938,   111,\n",
       "           449, 30729,     7,     5,   544,     2]]), 'attention_mask': tensor([[1, 1, 1, 1, 1, 1, 1, 1, 1, 1, 1, 1, 1, 1, 1, 1, 1, 1, 1, 1, 1, 1, 1, 1,\n",
       "         1, 1, 1, 1, 1, 1, 1, 1, 1, 1, 1, 1]])}"
      ]
     },
     "execution_count": 86,
     "metadata": {},
     "output_type": "execute_result"
    }
   ],
   "source": [
    "#ROBERTA PRETRAINED MODEL CONTINUATION\n",
    "\n",
    "#RUN THE SAME EXAMPLE FOR ROBERTA NOW\n",
    "encoded_text = tokenizer(example, return_tensors='pt') #TOKENIZER FUNCTION ENCODES THE EXAMPLE\n",
    "encoded_text"
   ]
  },
  {
   "cell_type": "code",
   "execution_count": 87,
   "metadata": {},
   "outputs": [
    {
     "data": {
      "text/plain": [
       "SequenceClassifierOutput(loss=None, logits=tensor([[-2.3266, -0.2750,  3.1509]], grad_fn=<AddmmBackward0>), hidden_states=None, attentions=None)"
      ]
     },
     "execution_count": 87,
     "metadata": {},
     "output_type": "execute_result"
    }
   ],
   "source": [
    "#ROBERTA PRETRAINED MODEL CONTINUATION\n",
    "\n",
    "output = model(**encoded_text)\n",
    "output"
   ]
  },
  {
   "cell_type": "code",
   "execution_count": 88,
   "metadata": {},
   "outputs": [
    {
     "data": {
      "text/plain": [
       "array([0.00403153, 0.03136886, 0.96459967], dtype=float32)"
      ]
     },
     "execution_count": 88,
     "metadata": {},
     "output_type": "execute_result"
    }
   ],
   "source": [
    "#ROBERTA PRETRAINED MODEL CONTINUATION\n",
    "\n",
    "#CHANGE THE OUTPUT TO A MORE READABLE FORM\n",
    "\n",
    "changed_output = output[0][0].detach().numpy()\n",
    "changed_output = softmax(changed_output)\n",
    "changed_output\n",
    "\n",
    "#OUTPUT IS IN THE FORM OF NEGATIVE, NEUTRAL, AND POSITIVE RATIO RESPECTIVELY."
   ]
  },
  {
   "cell_type": "code",
   "execution_count": 89,
   "metadata": {},
   "outputs": [
    {
     "name": "stdout",
     "output_type": "stream",
     "text": [
      "{'roberta negative': 0.0040315297, 'roberta_neutral': 0.031368855, 'roberta_positive': 0.96459967}\n"
     ]
    }
   ],
   "source": [
    "#ROBERTA PRETRAINED MODEL CONTINUATION\n",
    "\n",
    "changed_output_dictionary = {\n",
    "    'roberta negative' : changed_output[0],\n",
    "    'roberta_neutral' : changed_output[1], \n",
    "    'roberta_positive' : changed_output[2]\n",
    "}\n",
    "\n",
    "print(changed_output_dictionary)"
   ]
  },
  {
   "cell_type": "code",
   "execution_count": 91,
   "metadata": {},
   "outputs": [],
   "source": [
    "def polarity_scores_roberta(example):\n",
    "    encoded_text = tokenizer(example, return_tensors='pt')\n",
    "    \n",
    "    output = model(**encoded_text)\n",
    "    \n",
    "    changed_output = output[0][0].detach().numpy()\n",
    "    \n",
    "    changed_output = softmax(changed_output)\n",
    "    \n",
    "    changed_output_dictionary = {\n",
    "    'roberta negative' : changed_output[0],\n",
    "    'roberta_neutral' : changed_output[1], \n",
    "    'roberta_positive' : changed_output[2]\n",
    "    }\n",
    "\n",
    "    return changed_output_dictionary\n",
    "    \n",
    "    "
   ]
  },
  {
   "cell_type": "code",
   "execution_count": null,
   "metadata": {},
   "outputs": [],
   "source": [
    "#video watched till 34 minutes, continue aagay se ab to add the try exception block of code.\n",
    "#ALSO ROBERTA MODEL IS VERY SLOW! 10/100 REVIEWS ANALYZED IN 1.5 MINUTES.\n",
    "\n",
    "vader_result = {}\n",
    "roberta_result ={}\n",
    "\n",
    "result = {}\n",
    "\n",
    "for i, row in tqdm(df.iterrows(), total = len(df)):\n",
    "    rev = row['Review']\n",
    "    myID = row['Id']\n",
    "    vader_result = sia.polarity_scores(rev)\n",
    "    vader_result_rename = {}\n",
    "    for key, value in vader_result.items(): # rename the neg, pos, neu in vader results to vader_neg, vader_neu etc\n",
    "        vader_result_rename[f\"vader_{key}\"] = value\n",
    "\n",
    "    roberta_result = polarity_scores_roberta(rev)\n",
    "    both = {**vader_result_rename,**roberta_result}\n",
    "    result[myID] = both\n",
    "\n"
   ]
  },
  {
   "cell_type": "code",
   "execution_count": null,
   "metadata": {},
   "outputs": [
    {
     "data": {
      "text/plain": [
       "{'neg': 0.0, 'neu': 0.582, 'pos': 0.418, 'compound': 0.9664}"
      ]
     },
     "execution_count": 101,
     "metadata": {},
     "output_type": "execute_result"
    }
   ],
   "source": [
    "vader_result"
   ]
  },
  {
   "cell_type": "code",
   "execution_count": null,
   "metadata": {},
   "outputs": [
    {
     "data": {
      "text/plain": [
       "{'roberta negative': 0.0013910488,\n",
       " 'roberta_neutral': 0.015603758,\n",
       " 'roberta_positive': 0.9830052}"
      ]
     },
     "execution_count": 102,
     "metadata": {},
     "output_type": "execute_result"
    }
   ],
   "source": [
    "roberta_result"
   ]
  },
  {
   "cell_type": "code",
   "execution_count": null,
   "metadata": {},
   "outputs": [
    {
     "data": {
      "text/plain": [
       "{'vader_neg': 0.0,\n",
       " 'vader_neu': 0.582,\n",
       " 'vader_pos': 0.418,\n",
       " 'vader_compound': 0.9664,\n",
       " 'roberta negative': 0.0013910488,\n",
       " 'roberta_neutral': 0.015603758,\n",
       " 'roberta_positive': 0.9830052}"
      ]
     },
     "execution_count": 103,
     "metadata": {},
     "output_type": "execute_result"
    }
   ],
   "source": [
    "both"
   ]
  }
 ],
 "metadata": {
  "kernelspec": {
   "display_name": "base",
   "language": "python",
   "name": "python3"
  },
  "language_info": {
   "codemirror_mode": {
    "name": "ipython",
    "version": 3
   },
   "file_extension": ".py",
   "mimetype": "text/x-python",
   "name": "python",
   "nbconvert_exporter": "python",
   "pygments_lexer": "ipython3",
   "version": "3.10.9"
  },
  "orig_nbformat": 4
 },
 "nbformat": 4,
 "nbformat_minor": 2
}
